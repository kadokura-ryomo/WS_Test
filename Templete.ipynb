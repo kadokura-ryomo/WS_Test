{
  "nbformat": 4,
  "nbformat_minor": 0,
  "metadata": {
    "colab": {
      "name": "Templete",
      "provenance": [],
      "collapsed_sections": [],
      "authorship_tag": "ABX9TyMyJItBAN77iYuMljYVWsH2",
      "include_colab_link": true
    },
    "kernelspec": {
      "name": "python3",
      "display_name": "Python 3"
    },
    "language_info": {
      "name": "python"
    }
  },
  "cells": [
    {
      "cell_type": "markdown",
      "metadata": {
        "id": "view-in-github",
        "colab_type": "text"
      },
      "source": [
        "<a href=\"https://colab.research.google.com/github/kadokura-ryomo/WS_Test/blob/test/Templete.ipynb\" target=\"_parent\"><img src=\"https://colab.research.google.com/assets/colab-badge.svg\" alt=\"Open In Colab\"/></a>"
      ]
    },
    {
      "cell_type": "markdown",
      "metadata": {
        "id": "tmGv1Qc28Bq2"
      },
      "source": [
        "RSリモート環境では「ノートブックを新規作成」が不可のため、\n",
        "当ファイルをコピーしてお使いください。"
      ]
    }
  ]
}